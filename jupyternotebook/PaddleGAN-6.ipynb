{
 "cells": [
  {
   "cell_type": "markdown",
   "metadata": {
    "collapsed": false
   },
   "source": [
    "# 七日课 大作业：实现超分\n",
    "\n",
    "经过这几天的学习，相信大家对GAN已经有了一定的了解了，也在前面的作业中体验过GAN的一些应用了。那现在大家是不是想要升级一下难度，自己动手来训练一个模型呢？\n",
    "\n",
    "需要自己动手训练的大作业来啦，大作业内容为基于PaddleGAN中的超分模型，实现卡通画超分。\n"
   ]
  },
  {
   "cell_type": "markdown",
   "metadata": {
    "collapsed": false
   },
   "source": [
    "## 安装PaddleGAN\n",
    "\n",
    "PaddleGAN的安装目前支持Clone GitHub和Gitee两种方式："
   ]
  },
  {
   "cell_type": "code",
   "execution_count": null,
   "metadata": {
    "collapsed": false
   },
   "outputs": [],
   "source": [
    "# 安装ppgan\n",
    "# 当前目录在: /home/aistudio/, 这个目录也是左边文件和文件夹所在的目录\n",
    "# 克隆最新的PaddleGAN仓库到当前目录\n",
    "# !git clone https://github.com/PaddlePaddle/PaddleGAN.git\n",
    "# 如果从github下载慢可以从gitee clone：\n",
    "!git clone https://gitee.com/paddlepaddle/PaddleGAN.git\n",
    "# 安装Paddle GAN\n",
    "%cd PaddleGAN/\n",
    "!pip install -v -e ."
   ]
  },
  {
   "cell_type": "markdown",
   "metadata": {
    "collapsed": false
   },
   "source": [
    "### 数据准备\n",
    "我们为大家准备了处理好的超分数据集[卡通画超分数据集](https://aistudio.baidu.com/aistudio/datasetdetail/80790)"
   ]
  },
  {
   "cell_type": "code",
   "execution_count": null,
   "metadata": {
    "collapsed": true
   },
   "outputs": [
    {
     "name": "stdout",
     "output_type": "stream",
     "text": [
      "/home/aistudio\n",
      "mv: cannot move 'data/animeSR' to 'PaddleGAN/data/animeSR': Directory not empty\n"
     ]
    }
   ],
   "source": [
    "# 回到/home/aistudio/下\n",
    "%cd /home/aistudio\n",
    "# 解压数据\n",
    "!unzip -q data/data80790/animeSR.zip -d data/\n",
    "# 将解压后的数据链接到` /home/aistudio/PaddleGAN/data `目录下\n",
    "!mv data/animeSR PaddleGAN/data/"
   ]
  },
  {
   "cell_type": "markdown",
   "metadata": {
    "collapsed": true
   },
   "source": [
    "\n",
    "### 数据集的组成形式\n",
    "```\n",
    "    PaddleGAN\n",
    "      ├── data\n",
    "          ├── animeSR\n",
    "                ├── train\n",
    "                ├── train_X4\n",
    "                ├── test\n",
    "                └── test_X4\n",
    "  ```\n",
    "\n",
    "训练数据集包括400张卡通画，其中``` train ```中是高分辨率图像，``` train_X4 ```中是对应的4倍缩小的低分辨率图像。测试数据集包括20张卡通画，其中``` test ```中是高分辨率图像，``` test_X4 ```中是对应的4倍缩小的低分辨率图像。"
   ]
  },
  {
   "cell_type": "markdown",
   "metadata": {
    "collapsed": false
   },
   "source": [
    "### 数据可视化"
   ]
  },
  {
   "cell_type": "code",
   "execution_count": null,
   "metadata": {
    "collapsed": true
   },
   "outputs": [
    {
     "name": "stdout",
     "output_type": "stream",
     "text": [
      "训练集数据量: 400\n",
      "测试集数据量: 20\n"
     ]
    },
    {
     "data": {
      "text/plain": [
       "<Figure size 640x480 with 1 Axes>"
      ]
     },
     "metadata": {},
     "output_type": "display_data"
    }
   ],
   "source": [
    "import os\n",
    "import cv2\n",
    "import numpy as np\n",
    "import matplotlib.pyplot as plt\n",
    "# 训练数据统计\n",
    "train_names = os.listdir('PaddleGAN/data/animeSR/train')\n",
    "print(f'训练集数据量: {len(train_names)}')\n",
    "\n",
    "# 测试数据统计\n",
    "test_names = os.listdir('PaddleGAN/data/animeSR/test')\n",
    "print(f'测试集数据量: {len(test_names)}')\n",
    "\n",
    "# 训练数据可视化\n",
    "img = cv2.imread('PaddleGAN/data/animeSR/train/Anime_1.jpg')\n",
    "img = img[:,:,::-1]\n",
    "plt.figure()\n",
    "plt.imshow(img)\n",
    "plt.show()"
   ]
  },
  {
   "cell_type": "markdown",
   "metadata": {
    "collapsed": false
   },
   "source": [
    "### 选择超分模型\n",
    "\n",
    "PaddleGAN中提供的超分模型包括RealSR, ESRGAN, LESRCNN, DRN等，详情可见[超分模型](https://github.com/PaddlePaddle/PaddleGAN/blob/develop/docs/zh_CN/tutorials/super_resolution.md)。\n",
    "\n",
    "接下来以ESRGAN为例进行演示。"
   ]
  },
  {
   "cell_type": "markdown",
   "metadata": {
    "collapsed": false
   },
   "source": [
    "### 修改配置文件\n",
    " 所有模型的配置文件均在``` /home/aistudio/PaddleGAN/configs ```目录下。\n",
    " \n",
    " 找到你需要的模型的配置文件，修改模型参数，一般修改迭代次数，num_workers，batch_size以及数据集路径。有能力的同学也可以尝试修改其他参数，或者基于现有模型进行二次开发，模型代码在``` /home/aistudio/PaddleGAN/ppgan/models ```目录下。\n",
    " \n",
    " 以ESRGAN为例，这里将将配置文件``esrgan_psnr_x4_div2k.yaml``中的\n",
    " \n",
    " 参数``total_iters``改为50000\n",
    " \n",
    " 参数``dataset：train：num_workers``改为12\n",
    " \n",
    " 参数``dataset：train：batch_size``改为48\n",
    " \n",
    " 参数``dataset：train：gt_folder``改为data/animeSR/train\n",
    " \n",
    " 参数``dataset：train：lq_folder``改为data/animeSR/train_X4\n",
    " \n",
    " 参数``dataset：test：gt_folder``改为data/animeSR/test\n",
    " \n",
    " 参数``dataset：test：lq_folder``改为data/animeSR/test_X4\n",
    " "
   ]
  },
  {
   "cell_type": "markdown",
   "metadata": {
    "collapsed": false
   },
   "source": [
    "### 训练模型\n",
    "以ESRGAN为例，运行以下代码训练ESRGAN模型。\n",
    "\n",
    "如果希望使用其他模型训练，可以修改配置文件名字。"
   ]
  },
  {
   "cell_type": "code",
   "execution_count": 16,
   "metadata": {
    "collapsed": false
   },
   "outputs": [
    {
     "name": "stdout",
     "output_type": "stream",
     "text": [
      "/home/aistudio/PaddleGAN\n",
      "/opt/conda/envs/python35-paddle120-env/lib/python3.7/site-packages/setuptools/depends.py:2: DeprecationWarning: the imp module is deprecated in favour of importlib; see the module's documentation for alternative uses\n",
      "  import imp\n",
      "[04/20 22:29:23] ppgan INFO: Configs: {'total_iters': 40000, 'output_dir': 'output_dir/lesrcnn_psnr_x4_div2k-2021-04-20-22-29', 'min_max': (0.0, 1.0), 'model': {'name': 'BaseSRModel', 'generator': {'name': 'LESRCNNGenerator'}, 'pixel_criterion': {'name': 'L1Loss'}}, 'dataset': {'train': {'name': 'SRDataset', 'gt_folder': 'data/animeSR/train', 'lq_folder': 'data/animeSR/train_X4', 'num_workers': 2, 'batch_size': 32, 'scale': 4, 'preprocess': [{'name': 'LoadImageFromFile', 'key': 'lq'}, {'name': 'LoadImageFromFile', 'key': 'gt'}, {'name': 'Transforms', 'input_keys': ['lq', 'gt'], 'pipeline': [{'name': 'SRPairedRandomCrop', 'gt_patch_size': 128, 'scale': 4, 'keys': ['image', 'image']}, {'name': 'PairedRandomHorizontalFlip', 'keys': ['image', 'image']}, {'name': 'PairedRandomVerticalFlip', 'keys': ['image', 'image']}, {'name': 'PairedRandomTransposeHW', 'keys': ['image', 'image']}, {'name': 'Transpose', 'keys': ['image', 'image']}, {'name': 'Normalize', 'mean': [0.0, 0.0, 0.0], 'std': [255.0, 255.0, 255.0], 'keys': ['image', 'image']}]}]}, 'test': {'name': 'SRDataset', 'gt_folder': 'data/animeSR/test', 'lq_folder': 'data/animeSR/test_X4', 'scale': 4, 'preprocess': [{'name': 'LoadImageFromFile', 'key': 'lq'}, {'name': 'LoadImageFromFile', 'key': 'gt'}, {'name': 'Transforms', 'input_keys': ['lq', 'gt'], 'pipeline': [{'name': 'Transpose', 'keys': ['image', 'image']}, {'name': 'Normalize', 'mean': [0.0, 0.0, 0.0], 'std': [255.0, 255.0, 255.0], 'keys': ['image', 'image']}]}]}}, 'lr_scheduler': {'name': 'CosineAnnealingRestartLR', 'learning_rate': 0.0002, 'periods': [250000, 250000, 250000, 250000], 'restart_weights': [1, 1, 1, 1], 'eta_min': 1e-07}, 'optimizer': {'name': 'Adam', 'net_names': ['generator'], 'beta1': 0.9, 'beta2': 0.99}, 'validate': {'interval': 5000, 'save_img': False, 'metrics': {'psnr': {'name': 'PSNR', 'crop_border': 4, 'test_y_channel': True}, 'ssim': {'name': 'SSIM', 'crop_border': 4, 'test_y_channel': True}}}, 'log_config': {'interval': 100, 'visiual_interval': 5000}, 'snapshot_config': {'interval': 2500}, 'is_train': True, 'timestamp': '-2021-04-20-22-29'}\n",
      "W0420 22:29:23.796195 11059 device_context.cc:362] Please NOTE: device: 0, GPU Compute Capability: 7.0, Driver API Version: 10.1, Runtime API Version: 10.1\n",
      "W0420 22:29:23.801404 11059 device_context.cc:372] device: 0, cuDNN Version: 7.6.\n",
      "[04/20 22:30:07] ppgan.engine.trainer INFO: Iter: 35100/40000 lr: 1.904e-04 loss_pixel: 0.039 batch_cost: 0.38057 sec reader_cost: 0.33913 sec ips: 2.62767 images/s eta: 0:31:04\n",
      "[04/20 22:30:43] ppgan.engine.trainer INFO: Iter: 35200/40000 lr: 1.904e-04 loss_pixel: 0.036 batch_cost: 0.36534 sec reader_cost: 0.32334 sec ips: 2.73720 images/s eta: 0:29:13\n",
      "[04/20 22:31:20] ppgan.engine.trainer INFO: Iter: 35300/40000 lr: 1.903e-04 loss_pixel: 0.038 batch_cost: 0.36955 sec reader_cost: 0.32932 sec ips: 2.70597 images/s eta: 0:28:56\n",
      "[04/20 22:31:58] ppgan.engine.trainer INFO: Iter: 35400/40000 lr: 1.903e-04 loss_pixel: 0.036 batch_cost: 0.37688 sec reader_cost: 0.33737 sec ips: 2.65334 images/s eta: 0:28:53\n",
      "[04/20 22:32:35] ppgan.engine.trainer INFO: Iter: 35500/40000 lr: 1.902e-04 loss_pixel: 0.045 batch_cost: 0.36592 sec reader_cost: 0.32492 sec ips: 2.73285 images/s eta: 0:27:26\n",
      "[04/20 22:33:12] ppgan.engine.trainer INFO: Iter: 35600/40000 lr: 1.902e-04 loss_pixel: 0.039 batch_cost: 0.37094 sec reader_cost: 0.33235 sec ips: 2.69583 images/s eta: 0:27:11\n",
      "[04/20 22:33:50] ppgan.engine.trainer INFO: Iter: 35700/40000 lr: 1.901e-04 loss_pixel: 0.035 batch_cost: 0.38333 sec reader_cost: 0.34059 sec ips: 2.60875 images/s eta: 0:27:27\n",
      "[04/20 22:34:27] ppgan.engine.trainer INFO: Iter: 35800/40000 lr: 1.901e-04 loss_pixel: 0.040 batch_cost: 0.36397 sec reader_cost: 0.32234 sec ips: 2.74745 images/s eta: 0:25:28\n",
      "[04/20 22:35:03] ppgan.engine.trainer INFO: Iter: 35900/40000 lr: 1.900e-04 loss_pixel: 0.036 batch_cost: 0.36483 sec reader_cost: 0.32683 sec ips: 2.74097 images/s eta: 0:24:55\n",
      "[04/20 22:35:41] ppgan.engine.trainer INFO: Iter: 36000/40000 lr: 1.899e-04 loss_pixel: 0.036 batch_cost: 0.38068 sec reader_cost: 0.33778 sec ips: 2.62690 images/s eta: 0:25:22\n",
      "[04/20 22:36:18] ppgan.engine.trainer INFO: Iter: 36100/40000 lr: 1.899e-04 loss_pixel: 0.041 batch_cost: 0.36715 sec reader_cost: 0.32703 sec ips: 2.72369 images/s eta: 0:23:51\n",
      "[04/20 22:36:54] ppgan.engine.trainer INFO: Iter: 36200/40000 lr: 1.898e-04 loss_pixel: 0.035 batch_cost: 0.36291 sec reader_cost: 0.32239 sec ips: 2.75548 images/s eta: 0:22:58\n",
      "[04/20 22:37:32] ppgan.engine.trainer INFO: Iter: 36300/40000 lr: 1.898e-04 loss_pixel: 0.034 batch_cost: 0.37641 sec reader_cost: 0.33324 sec ips: 2.65670 images/s eta: 0:23:12\n",
      "[04/20 22:38:09] ppgan.engine.trainer INFO: Iter: 36400/40000 lr: 1.897e-04 loss_pixel: 0.040 batch_cost: 0.36773 sec reader_cost: 0.32696 sec ips: 2.71935 images/s eta: 0:22:03\n",
      "[04/20 22:38:46] ppgan.engine.trainer INFO: Iter: 36500/40000 lr: 1.897e-04 loss_pixel: 0.032 batch_cost: 0.36937 sec reader_cost: 0.32710 sec ips: 2.70729 images/s eta: 0:21:32\n",
      "[04/20 22:39:24] ppgan.engine.trainer INFO: Iter: 36600/40000 lr: 1.896e-04 loss_pixel: 0.041 batch_cost: 0.37898 sec reader_cost: 0.33920 sec ips: 2.63868 images/s eta: 0:21:28\n",
      "[04/20 22:40:01] ppgan.engine.trainer INFO: Iter: 36700/40000 lr: 1.896e-04 loss_pixel: 0.030 batch_cost: 0.36911 sec reader_cost: 0.32921 sec ips: 2.70920 images/s eta: 0:20:17\n",
      "[04/20 22:40:38] ppgan.engine.trainer INFO: Iter: 36800/40000 lr: 1.895e-04 loss_pixel: 0.037 batch_cost: 0.37164 sec reader_cost: 0.33025 sec ips: 2.69078 images/s eta: 0:19:48\n",
      "[04/20 22:41:16] ppgan.engine.trainer INFO: Iter: 36900/40000 lr: 1.894e-04 loss_pixel: 0.037 batch_cost: 0.38088 sec reader_cost: 0.34003 sec ips: 2.62551 images/s eta: 0:19:40\n",
      "[04/20 22:41:54] ppgan.engine.trainer INFO: Iter: 37000/40000 lr: 1.894e-04 loss_pixel: 0.039 batch_cost: 0.37332 sec reader_cost: 0.33152 sec ips: 2.67864 images/s eta: 0:18:39\n",
      "[04/20 22:42:30] ppgan.engine.trainer INFO: Iter: 37100/40000 lr: 1.893e-04 loss_pixel: 0.036 batch_cost: 0.36479 sec reader_cost: 0.32369 sec ips: 2.74132 images/s eta: 0:17:37\n",
      "[04/20 22:43:08] ppgan.engine.trainer INFO: Iter: 37200/40000 lr: 1.893e-04 loss_pixel: 0.038 batch_cost: 0.38084 sec reader_cost: 0.34059 sec ips: 2.62581 images/s eta: 0:17:45\n",
      "[04/20 22:43:45] ppgan.engine.trainer INFO: Iter: 37300/40000 lr: 1.892e-04 loss_pixel: 0.036 batch_cost: 0.36834 sec reader_cost: 0.32665 sec ips: 2.71487 images/s eta: 0:16:34\n",
      "[04/20 22:44:23] ppgan.engine.trainer INFO: Iter: 37400/40000 lr: 1.892e-04 loss_pixel: 0.037 batch_cost: 0.37713 sec reader_cost: 0.33783 sec ips: 2.65160 images/s eta: 0:16:20\n",
      "[04/20 22:45:01] ppgan.engine.trainer INFO: Iter: 37500/40000 lr: 1.891e-04 loss_pixel: 0.044 batch_cost: 0.38246 sec reader_cost: 0.34387 sec ips: 2.61464 images/s eta: 0:15:55\n",
      "[04/20 22:45:38] ppgan.engine.trainer INFO: Iter: 37600/40000 lr: 1.890e-04 loss_pixel: 0.039 batch_cost: 0.36662 sec reader_cost: 0.32576 sec ips: 2.72759 images/s eta: 0:14:39\n",
      "[04/20 22:46:15] ppgan.engine.trainer INFO: Iter: 37700/40000 lr: 1.890e-04 loss_pixel: 0.034 batch_cost: 0.36655 sec reader_cost: 0.32602 sec ips: 2.72815 images/s eta: 0:14:02\n",
      "[04/20 22:46:53] ppgan.engine.trainer INFO: Iter: 37800/40000 lr: 1.889e-04 loss_pixel: 0.034 batch_cost: 0.38230 sec reader_cost: 0.33775 sec ips: 2.61575 images/s eta: 0:14:00\n",
      "[04/20 22:47:29] ppgan.engine.trainer INFO: Iter: 37900/40000 lr: 1.889e-04 loss_pixel: 0.035 batch_cost: 0.36231 sec reader_cost: 0.32337 sec ips: 2.76009 images/s eta: 0:12:40\n",
      "[04/20 22:48:06] ppgan.engine.trainer INFO: Iter: 38000/40000 lr: 1.888e-04 loss_pixel: 0.027 batch_cost: 0.36657 sec reader_cost: 0.32515 sec ips: 2.72800 images/s eta: 0:12:12\n",
      "[04/20 22:48:44] ppgan.engine.trainer INFO: Iter: 38100/40000 lr: 1.888e-04 loss_pixel: 0.035 batch_cost: 0.38076 sec reader_cost: 0.34188 sec ips: 2.62633 images/s eta: 0:12:03\n",
      "[04/20 22:49:21] ppgan.engine.trainer INFO: Iter: 38200/40000 lr: 1.887e-04 loss_pixel: 0.041 batch_cost: 0.36651 sec reader_cost: 0.32820 sec ips: 2.72848 images/s eta: 0:10:59\n",
      "[04/20 22:49:58] ppgan.engine.trainer INFO: Iter: 38300/40000 lr: 1.886e-04 loss_pixel: 0.040 batch_cost: 0.36934 sec reader_cost: 0.32666 sec ips: 2.70751 images/s eta: 0:10:27\n",
      "[04/20 22:50:36] ppgan.engine.trainer INFO: Iter: 38400/40000 lr: 1.886e-04 loss_pixel: 0.039 batch_cost: 0.37855 sec reader_cost: 0.33743 sec ips: 2.64169 images/s eta: 0:10:05\n",
      "[04/20 22:51:13] ppgan.engine.trainer INFO: Iter: 38500/40000 lr: 1.885e-04 loss_pixel: 0.042 batch_cost: 0.37081 sec reader_cost: 0.32882 sec ips: 2.69680 images/s eta: 0:09:15\n",
      "[04/20 22:51:50] ppgan.engine.trainer INFO: Iter: 38600/40000 lr: 1.885e-04 loss_pixel: 0.047 batch_cost: 0.36678 sec reader_cost: 0.32716 sec ips: 2.72641 images/s eta: 0:08:33\n",
      "[04/20 22:52:28] ppgan.engine.trainer INFO: Iter: 38700/40000 lr: 1.884e-04 loss_pixel: 0.038 batch_cost: 0.38201 sec reader_cost: 0.34159 sec ips: 2.61776 images/s eta: 0:08:16\n",
      "[04/20 22:53:05] ppgan.engine.trainer INFO: Iter: 38800/40000 lr: 1.884e-04 loss_pixel: 0.039 batch_cost: 0.36795 sec reader_cost: 0.32828 sec ips: 2.71776 images/s eta: 0:07:21\n",
      "[04/20 22:53:41] ppgan.engine.trainer INFO: Iter: 38900/40000 lr: 1.883e-04 loss_pixel: 0.035 batch_cost: 0.36517 sec reader_cost: 0.32275 sec ips: 2.73849 images/s eta: 0:06:41\n",
      "[04/20 22:54:20] ppgan.engine.trainer INFO: Iter: 39000/40000 lr: 1.882e-04 loss_pixel: 0.032 batch_cost: 0.38207 sec reader_cost: 0.33694 sec ips: 2.61731 images/s eta: 0:06:21\n",
      "[04/20 22:54:56] ppgan.engine.trainer INFO: Iter: 39100/40000 lr: 1.882e-04 loss_pixel: 0.037 batch_cost: 0.36822 sec reader_cost: 0.32665 sec ips: 2.71579 images/s eta: 0:05:31\n",
      "[04/20 22:55:33] ppgan.engine.trainer INFO: Iter: 39200/40000 lr: 1.881e-04 loss_pixel: 0.033 batch_cost: 0.36840 sec reader_cost: 0.32794 sec ips: 2.71445 images/s eta: 0:04:54\n",
      "[04/20 22:56:12] ppgan.engine.trainer INFO: Iter: 39300/40000 lr: 1.881e-04 loss_pixel: 0.041 batch_cost: 0.38201 sec reader_cost: 0.34158 sec ips: 2.61775 images/s eta: 0:04:27\n",
      "[04/20 22:56:48] ppgan.engine.trainer INFO: Iter: 39400/40000 lr: 1.880e-04 loss_pixel: 0.034 batch_cost: 0.36705 sec reader_cost: 0.32700 sec ips: 2.72442 images/s eta: 0:03:39\n",
      "[04/20 22:57:26] ppgan.engine.trainer INFO: Iter: 39500/40000 lr: 1.879e-04 loss_pixel: 0.039 batch_cost: 0.37140 sec reader_cost: 0.32837 sec ips: 2.69253 images/s eta: 0:03:05\n",
      "[04/20 22:58:04] ppgan.engine.trainer INFO: Iter: 39600/40000 lr: 1.879e-04 loss_pixel: 0.039 batch_cost: 0.38409 sec reader_cost: 0.34512 sec ips: 2.60358 images/s eta: 0:02:33\n",
      "[04/20 22:58:41] ppgan.engine.trainer INFO: Iter: 39700/40000 lr: 1.878e-04 loss_pixel: 0.035 batch_cost: 0.37323 sec reader_cost: 0.32953 sec ips: 2.67933 images/s eta: 0:01:51\n",
      "[04/20 22:59:19] ppgan.engine.trainer INFO: Iter: 39800/40000 lr: 1.878e-04 loss_pixel: 0.036 batch_cost: 0.37089 sec reader_cost: 0.33188 sec ips: 2.69621 images/s eta: 0:01:13\n",
      "[04/20 22:59:57] ppgan.engine.trainer INFO: Iter: 39900/40000 lr: 1.877e-04 loss_pixel: 0.041 batch_cost: 0.38263 sec reader_cost: 0.34084 sec ips: 2.61347 images/s eta: 0:00:37\n",
      "[04/20 23:00:34] ppgan.engine.trainer INFO: Iter: 40000/40000 lr: 1.876e-04 loss_pixel: 0.039 batch_cost: 0.36881 sec reader_cost: 0.32877 sec ips: 2.71143 images/s eta: 0:00:00\n",
      "[04/20 23:00:36] ppgan.engine.trainer INFO: Test iter: [0/20]\n",
      "[04/20 23:01:27] ppgan.engine.trainer INFO: Metric psnr: 24.9308\n",
      "[04/20 23:01:27] ppgan.engine.trainer INFO: Metric ssim: 0.7470\n"
     ]
    }
   ],
   "source": [
    "%cd /home/aistudio/PaddleGAN/\n",
    "# !python -u tools/main.py --config-file configs/esrgan_psnr_x4_div2k.yaml\n",
    "!python -u tools/main.py --config-file configs/lesrcnn_psnr_x4_div2k.yaml --resume output_dir/lesrcnn_psnr_x4_div2k-2021-04-20-21-55/iter_35000_checkpoint.pdparams"
   ]
  },
  {
   "cell_type": "markdown",
   "metadata": {
    "collapsed": false
   },
   "source": [
    "### 测试模型\n",
    "以ESRGAN为例，模型训练好后，运行以下代码测试ESRGAN模型。\n",
    "\n",
    "其中``/home/aistudio/pretrained_model/ESRGAN_PSNR_50000_weight.pdparams``是刚才ESRGAN训练的模型参数，同学们需要换成自己的模型参数。\n",
    "\n",
    "如果希望使用其他模型测试，可以修改配置文件名字。"
   ]
  },
  {
   "cell_type": "code",
   "execution_count": 17,
   "metadata": {
    "collapsed": false
   },
   "outputs": [
    {
     "name": "stdout",
     "output_type": "stream",
     "text": [
      "/home/aistudio/PaddleGAN\n",
      "/opt/conda/envs/python35-paddle120-env/lib/python3.7/site-packages/setuptools/depends.py:2: DeprecationWarning: the imp module is deprecated in favour of importlib; see the module's documentation for alternative uses\n",
      "  import imp\n",
      "[04/20 23:02:41] ppgan INFO: Configs: {'total_iters': 40000, 'output_dir': 'output_dir/lesrcnn_psnr_x4_div2k-2021-04-20-23-02', 'min_max': (0.0, 1.0), 'model': {'name': 'BaseSRModel', 'generator': {'name': 'LESRCNNGenerator'}, 'pixel_criterion': {'name': 'L1Loss'}}, 'dataset': {'train': {'name': 'SRDataset', 'gt_folder': 'data/animeSR/train', 'lq_folder': 'data/animeSR/train_X4', 'num_workers': 2, 'batch_size': 32, 'scale': 4, 'preprocess': [{'name': 'LoadImageFromFile', 'key': 'lq'}, {'name': 'LoadImageFromFile', 'key': 'gt'}, {'name': 'Transforms', 'input_keys': ['lq', 'gt'], 'pipeline': [{'name': 'SRPairedRandomCrop', 'gt_patch_size': 128, 'scale': 4, 'keys': ['image', 'image']}, {'name': 'PairedRandomHorizontalFlip', 'keys': ['image', 'image']}, {'name': 'PairedRandomVerticalFlip', 'keys': ['image', 'image']}, {'name': 'PairedRandomTransposeHW', 'keys': ['image', 'image']}, {'name': 'Transpose', 'keys': ['image', 'image']}, {'name': 'Normalize', 'mean': [0.0, 0.0, 0.0], 'std': [255.0, 255.0, 255.0], 'keys': ['image', 'image']}]}]}, 'test': {'name': 'SRDataset', 'gt_folder': 'data/animeSR/test', 'lq_folder': 'data/animeSR/test_X4', 'scale': 4, 'preprocess': [{'name': 'LoadImageFromFile', 'key': 'lq'}, {'name': 'LoadImageFromFile', 'key': 'gt'}, {'name': 'Transforms', 'input_keys': ['lq', 'gt'], 'pipeline': [{'name': 'Transpose', 'keys': ['image', 'image']}, {'name': 'Normalize', 'mean': [0.0, 0.0, 0.0], 'std': [255.0, 255.0, 255.0], 'keys': ['image', 'image']}]}]}}, 'lr_scheduler': {'name': 'CosineAnnealingRestartLR', 'learning_rate': 0.0002, 'periods': [250000, 250000, 250000, 250000], 'restart_weights': [1, 1, 1, 1], 'eta_min': 1e-07}, 'optimizer': {'name': 'Adam', 'net_names': ['generator'], 'beta1': 0.9, 'beta2': 0.99}, 'validate': {'interval': 5000, 'save_img': False, 'metrics': {'psnr': {'name': 'PSNR', 'crop_border': 4, 'test_y_channel': True}, 'ssim': {'name': 'SSIM', 'crop_border': 4, 'test_y_channel': True}}}, 'log_config': {'interval': 100, 'visiual_interval': 5000}, 'snapshot_config': {'interval': 2500}, 'is_train': False, 'timestamp': '-2021-04-20-23-02'}\n",
      "W0420 23:02:41.461931 20114 device_context.cc:362] Please NOTE: device: 0, GPU Compute Capability: 7.0, Driver API Version: 10.1, Runtime API Version: 10.1\n",
      "W0420 23:02:41.467188 20114 device_context.cc:372] device: 0, cuDNN Version: 7.6.\n",
      "[04/20 23:02:46] ppgan.engine.trainer INFO: Loaded pretrained weight for net generator\n",
      "[04/20 23:02:49] ppgan.engine.trainer INFO: Test iter: [0/20]\n",
      "[04/20 23:03:40] ppgan.engine.trainer INFO: Metric psnr: 24.9308\n",
      "[04/20 23:03:40] ppgan.engine.trainer INFO: Metric ssim: 0.7470\n"
     ]
    }
   ],
   "source": [
    "%cd /home/aistudio/PaddleGAN/\n",
    "# !python tools/main.py --config-file configs/esrgan_psnr_x4_div2k.yaml --evaluate-only --load /home/aistudio/pretrained_model/ESRGAN_PSNR_5000_weight.pdparams\n",
    "!python tools/main.py --config-file configs/lesrcnn_psnr_x4_div2k.yaml --evaluate-only --load /home/aistudio/PaddleGAN/output_dir/lesrcnn_psnr_x4_div2k-2021-04-20-22-29/iter_40000_checkpoint.pdparams"
   ]
  },
  {
   "cell_type": "markdown",
   "metadata": {
    "collapsed": false
   },
   "source": [
    "### 实验结果展示及模型下载\n",
    "这里使用ESRGAN模型训练了一个基于PSNR指标的预测模型和一个基于GAN的预测模型。\n",
    "\n",
    "数值结果展示及模型下载\n",
    "\n",
    "| 方法 | 数据集 | 迭代次数 | 训练时长 | PSNR | SSIM | 模型下载 |\n",
    "|---|---|---|---|---|---|---|\n",
    "| ESRGAN_PSNR  | 卡通画超分数据集 | 50000 | 13.5h | 25.4782 | 0.7608 |[ESRGAN_PSNR](./pretrained_model/ESRGAN_PSNR_50000_weight.pdparams)|\n",
    "| ESRGAN_GAN  | 卡通画超分数据集 | 50000 | 11h | 21.4148 | 0.6176 |[ESRGAN_GAN](./pretrained_model/ESRGAN_GAN_50000_weight.pdparams)|\n",
    "| LESRCNN_PSNR | 卡通画超分数据集 | 40000 | 4.3h | 24.9308 | 0.7470 |[LESRCNN_PSNR](PaddleGAN/output_dir/lesrcnn_psnr_x4_div2k-2021-04-20-22-29/iter_40000_weight.pdparams)|\n",
    "\n",
    "可视化\n",
    "| 低分辨率 | ESRGAN_PSNR | ESRGAN_GAN | GT | LESRCNN_PSNR\n",
    "|---|---|---|---|---|\n",
    "|![](./image/Anime_401_lq.png)|![](./image/Anime_401_psnr.png)|![](./image/Anime_401_gan.png)|![](./image/Anime_401_gt.png)|![](./image/Anime_401_output.png)\n",
    "|![](./image/Anime_407_lq.png)|![](./image/Anime_407_psnr.png)|![](./image/Anime_407_gan.png)|![](./image/Anime_407_gt.png)|![](./image/Anime_407_output.png)\n",
    "\n"
   ]
  }
 ],
 "metadata": {
  "kernelspec": {
   "display_name": "PaddlePaddle 2.0.0b0 (Python 3.5)",
   "language": "python",
   "name": "py35-paddle1.2.0"
  },
  "language_info": {
   "codemirror_mode": {
    "name": "ipython",
    "version": 3
   },
   "file_extension": ".py",
   "mimetype": "text/x-python",
   "name": "python",
   "nbconvert_exporter": "python",
   "pygments_lexer": "ipython3",
   "version": "3.7.4"
  }
 },
 "nbformat": 4,
 "nbformat_minor": 1
}
